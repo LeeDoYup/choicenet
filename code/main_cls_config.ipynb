{
 "cells": [
  {
   "cell_type": "markdown",
   "metadata": {},
   "source": [
    "# Configurations for Classification Tasks"
   ]
  },
  {
   "cell_type": "code",
   "execution_count": 1,
   "metadata": {},
   "outputs": [
    {
     "name": "stdout",
     "output_type": "stream",
     "text": [
      "TensorFlow version is [1.4.1].\n"
     ]
    }
   ],
   "source": [
    "import os,nbloader,warnings,sys,time\n",
    "warnings.filterwarnings(\"ignore\")\n",
    "import numpy as np\n",
    "import tensorflow as tf \n",
    "import tensorflow.contrib.slim as slim\n",
    "from random import shuffle\n",
    "from define_choiceNet_cls import choiceNet_cls_class\n",
    "from define_cnn_cls import cnn_cls_class\n",
    "from multiprocessing import Process,Manager\n",
    "from util import grid_maker,gpusession,load_mnist_with_noise,get_properIdx\n",
    "if __name__ == \"__main__\":\n",
    "    print (\"TensorFlow version is [%s].\"%(tf.__version__))"
   ]
  },
  {
   "cell_type": "markdown",
   "metadata": {},
   "source": [
    "### Main Configurations"
   ]
  },
  {
   "cell_type": "code",
   "execution_count": 3,
   "metadata": {},
   "outputs": [],
   "source": [
    "methodList = ['CN','CNN']\n",
    "useMixupList = [False]\n",
    "outlierRatioList = [0.5,0.90,0.95]\n",
    "errTypeList = ['rp','rs','b'] # Random permutation (rp), random shuffle (rs), and biased\n",
    "def get_mnist_config(_processID=0,_maxProcessID=8,_maxGPU=8,_DO_SHUFFLE=False):\n",
    "    _G = grid_maker(methodList,useMixupList,outlierRatioList,errTypeList)\n",
    "    # Get current configurations\n",
    "    _ids = get_properIdx(_processID,_maxProcessID,_nTask=_G.nIter)\n",
    "    _paramsList = list(_G.paramList[i] for i in _ids) \n",
    "    # Set GPU ID\n",
    "    _GPU_ID = (_processID % _maxGPU)\n",
    "    # Suffle if required\n",
    "    if _DO_SHUFFLE:\n",
    "        shuffle(_paramsList)\n",
    "    return _paramsList,_GPU_ID"
   ]
  },
  {
   "cell_type": "markdown",
   "metadata": {},
   "source": [
    "### Common Configurations"
   ]
  },
  {
   "cell_type": "code",
   "execution_count": 5,
   "metadata": {},
   "outputs": [],
   "source": [
    "def get_mnist_common_config():\n",
    "    kmix,rho_ref_train,tau_inv,pi1_bias,logSigmaZval = 10,0.95,1e-4,0.0,-2 # 10,0.95,1e-4,0.0,-2\n",
    "    logsumexp_coef,kl_reg_coef,l2_reg_coef = 1e-2,1e-4,1e-5 # 0.1,0.1,1e-5\n",
    "    USE_INPUT_BN,USE_RESNET,USE_GAP,USE_KENDALL_LOSS = False,True,False,False\n",
    "    maxEpoch = 40\n",
    "    return kmix,rho_ref_train,tau_inv,pi1_bias,logSigmaZval \\\n",
    "            ,logsumexp_coef,kl_reg_coef,l2_reg_coef \\\n",
    "            ,USE_INPUT_BN,USE_RESNET,USE_GAP,USE_KENDALL_LOSS,maxEpoch"
   ]
  },
  {
   "cell_type": "markdown",
   "metadata": {},
   "source": [
    "### MNIST Train Wrapper"
   ]
  },
  {
   "cell_type": "code",
   "execution_count": 6,
   "metadata": {},
   "outputs": [],
   "source": [
    "def train_wrapper_mnist(_paramsList,_GPU_ID,_DO_PRINT=True):\n",
    "     # Train on different configurations \n",
    "    for pIdx,params in enumerate(_paramsList): # For all current configurations\n",
    "        # Parse current configuration\n",
    "        method,useMixup,outlierRatio,errType \\\n",
    "            = params[0],params[1],params[2],params[3]\n",
    "        # Get common parameters\n",
    "        xdim,ydim,hdims,filterSizes,max_pools,feat_dim = [28,28,1],10,[64,64],[3,3],[2,2],256\n",
    "        actv,bn,VERBOSE = tf.nn.relu,slim.batch_norm,False\n",
    "        kmix,rho_ref_train,tau_inv,pi1_bias,logSigmaZval \\\n",
    "            ,logsumexp_coef,kl_reg_coef,l2_reg_coef \\\n",
    "            ,USE_INPUT_BN,USE_RESNET,USE_GAP,USE_KENDALL_LOSS,maxEpoch \\\n",
    "            = get_mnist_common_config()\n",
    "        # Load CIFAR-10 with outlier\n",
    "        trainimg,trainlabel,testimg,testlabel,valimg,vallabel \\\n",
    "            = load_mnist_with_noise(_errType=errType,_outlierRatio=outlierRatio,_seed=0)\n",
    "        # ===== // =====\n",
    "        if method == 'CN':\n",
    "            tf.reset_default_graph(); tf.set_random_seed(0)\n",
    "            CN = choiceNet_cls_class(_name=('mnist_%s_err%.0f_%s_choiceNet'%(errType,outlierRatio*100\n",
    "                                                ,('mixup' if useMixup else 'basic') ))\n",
    "                      ,_xdim=xdim,_ydim=ydim,_hdims=hdims,_filterSizes=filterSizes\n",
    "                      ,_max_pools=max_pools,_feat_dim=feat_dim,_kmix=kmix,_actv=actv,_bn=slim.batch_norm\n",
    "                      ,_rho_ref_train=rho_ref_train,_tau_inv=tau_inv,_pi1_bias=pi1_bias,_logSigmaZval=logSigmaZval\n",
    "                      ,_logsumexp_coef=logsumexp_coef,_kl_reg_coef=kl_reg_coef,_l2_reg_coef=l2_reg_coef\n",
    "                      ,_USE_INPUT_BN=USE_INPUT_BN,_USE_RESNET=USE_RESNET,_USE_GAP=USE_GAP,_USE_KENDALL_LOSS=USE_KENDALL_LOSS\n",
    "                      ,_USE_MIXUP=useMixup,_GPU_ID=_GPU_ID\n",
    "                      ,_VERBOSE=VERBOSE)\n",
    "            sess = gpusession(); sess.run(tf.global_variables_initializer()) \n",
    "            CN.train(_sess=sess,_trainimg=trainimg,_trainlabel=trainlabel\n",
    "                     ,_testimg=testimg,_testlabel=testlabel,_valimg=valimg,_vallabel=vallabel\n",
    "                     ,_maxEpoch=maxEpoch,_batchSize=256,_lr=1e-5,_kp=0.95\n",
    "                     ,_LR_SCHEDULE=True,_PRINT_EVERY=100,_SAVE_BEST=True)\n",
    "            sess.close()\n",
    "        elif method == 'CNN':\n",
    "            tf.reset_default_graph(); tf.set_random_seed(0)\n",
    "            CNN = cnn_cls_class(_name=('mnist_%s_err%.0f_%s_cnn'%(errType,outlierRatio*100\n",
    "                                                ,('mixup' if useMixup else 'basic')))\n",
    "                                ,_xdim=xdim,_ydim=ydim,_hdims=hdims,_filterSizes=filterSizes\n",
    "                                ,_max_pools=max_pools,_feat_dim=feat_dim,_actv=actv,_bn=slim.batch_norm\n",
    "                                ,_l2_reg_coef=1e-5\n",
    "                                ,_USE_INPUT_BN=USE_INPUT_BN,_USE_RESNET=USE_RESNET,_USE_GAP=USE_GAP\n",
    "                                ,_USE_MIXUP=useMixup,_GPU_ID=_GPU_ID\n",
    "                                ,_VERBOSE=VERBOSE)\n",
    "            sess = gpusession(); sess.run(tf.global_variables_initializer()) \n",
    "            CNN.train(_sess=sess,_trainimg=trainimg,_trainlabel=trainlabel\n",
    "                      ,_testimg=testimg,_testlabel=testlabel,_valimg=valimg,_vallabel=vallabel\n",
    "                      ,_maxEpoch=maxEpoch,_batchSize=256,_lr=1e-5,_kp=0.95\n",
    "                      ,_LR_SCHEDULE=True,_PRINT_EVERY=100,_SAVE_BEST=True)\n",
    "            sess.close() \n",
    "        else:\n",
    "            print ('Unknown method: [%s]'%(method))"
   ]
  },
  {
   "cell_type": "markdown",
   "metadata": {},
   "source": [
    "### Worker Class"
   ]
  },
  {
   "cell_type": "code",
   "execution_count": 7,
   "metadata": {},
   "outputs": [
    {
     "name": "stdout",
     "output_type": "stream",
     "text": [
      "worker_class defined.\n"
     ]
    }
   ],
   "source": [
    "class worker_class(Process):\n",
    "    def __init__(self,_idx=0,_maxProcessID=8,_maxGPU=8,_name='worker',_FLAG='',_period=1,_maxTick=5,_VERBOSE=True):\n",
    "        Process.__init__(self)\n",
    "        # Initialize class\n",
    "        self.idx = _idx\n",
    "        self.maxProcessID = _maxProcessID\n",
    "        self.maxGPU = _maxGPU\n",
    "        self.name = _name\n",
    "        self.FLAG = _FLAG # Running flag \n",
    "        self.VERBOSE = _VERBOSE\n",
    "        # Initialize Process \n",
    "        self.setName = 'T_'+self.name \n",
    "        self.args = (self.FLAG,)\n",
    "        self.daemon = True # Make sure that each child is killed when the parent is dead. (?!)\n",
    "        # Print\n",
    "        if self.VERBOSE:\n",
    "            print (\"[%s] Instantiated.\"%(self.name))\n",
    "    def run(self):\n",
    "        print (\"Starting [%s]\"%(self.name))\n",
    "        time.sleep(1e-1)\n",
    "        # Get configurations\n",
    "        paramsList,GPU_ID = get_mnist_config(self.idx,self.maxProcessID,self.maxGPU)\n",
    "        print (\"processID:[%d/%d] GPU_ID:[%d] #Config:[%d]\"\n",
    "               %(self.idx,self.maxProcessID,GPU_ID,len(paramsList)))\n",
    "        # Run\n",
    "        train_wrapper_mnist(_paramsList=paramsList,_GPU_ID=GPU_ID,_DO_PRINT=False)\n",
    "        print (\"[%s] Done.\"%(self.name))\n",
    "if __name__ == \"__main__\":\n",
    "    print (\"worker_class defined.\")"
   ]
  },
  {
   "cell_type": "code",
   "execution_count": null,
   "metadata": {},
   "outputs": [],
   "source": []
  }
 ],
 "metadata": {
  "kernelspec": {
   "display_name": "Python 3",
   "language": "python",
   "name": "python3"
  },
  "language_info": {
   "codemirror_mode": {
    "name": "ipython",
    "version": 3
   },
   "file_extension": ".py",
   "mimetype": "text/x-python",
   "name": "python",
   "nbconvert_exporter": "python",
   "pygments_lexer": "ipython3",
   "version": "3.5.2"
  }
 },
 "nbformat": 4,
 "nbformat_minor": 2
}
