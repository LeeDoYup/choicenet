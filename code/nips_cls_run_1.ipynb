{
 "cells": [
  {
   "cell_type": "markdown",
   "metadata": {},
   "source": [
    "# Run Classification (MNIST) Tasks"
   ]
  },
  {
   "cell_type": "code",
   "execution_count": 1,
   "metadata": {},
   "outputs": [
    {
     "name": "stdout",
     "output_type": "stream",
     "text": [
      "Packages loaded.\n"
     ]
    }
   ],
   "source": [
    "import nbloader\n",
    "from nips_cls_config_1 import worker_class\n",
    "if __name__ == \"__main__\": \n",
    "    print (\"Packages loaded.\")"
   ]
  },
  {
   "cell_type": "markdown",
   "metadata": {},
   "source": [
    "### Instantiate Workers"
   ]
  },
  {
   "cell_type": "code",
   "execution_count": 2,
   "metadata": {},
   "outputs": [
    {
     "name": "stdout",
     "output_type": "stream",
     "text": [
      "[Worker_00] Instantiated.\n"
     ]
    }
   ],
   "source": [
    "nWorker = 1\n",
    "maxGPU  = 1\n",
    "WORKERS = ['']*nWorker\n",
    "for i in range(nWorker):\n",
    "    WORKERS[i] = worker_class(_idx=i,_maxProcessID=nWorker,_maxGPU=maxGPU,_name='Worker_%02d'%(i)\n",
    "                              ,_period=1.0,_maxTick=10,_VERBOSE=True)"
   ]
  },
  {
   "cell_type": "markdown",
   "metadata": {},
   "source": [
    "### Start Workers"
   ]
  },
  {
   "cell_type": "code",
   "execution_count": 3,
   "metadata": {
    "scrolled": false
   },
   "outputs": [
    {
     "name": "stdout",
     "output_type": "stream",
     "text": [
      "Starting [Worker_00]\n",
      "processID:[0/1] GPU_ID:[0] #Config:[10]\n",
      "WARNING:tensorflow:From <string>:2: read_data_sets (from tensorflow.contrib.learn.python.learn.datasets.mnist) is deprecated and will be removed in a future version.\n",
      "Instructions for updating:\n",
      "Please use alternatives such as official/mnist/dataset.py from tensorflow/models.\n",
      "WARNING:tensorflow:From /usr/local/lib/python3.5/dist-packages/tensorflow/contrib/learn/python/learn/datasets/mnist.py:260: maybe_download (from tensorflow.contrib.learn.python.learn.datasets.base) is deprecated and will be removed in a future version.\n",
      "Instructions for updating:\n",
      "Please write your own downloading logic.\n",
      "WARNING:tensorflow:From /usr/local/lib/python3.5/dist-packages/tensorflow/contrib/learn/python/learn/datasets/mnist.py:262: extract_images (from tensorflow.contrib.learn.python.learn.datasets.mnist) is deprecated and will be removed in a future version.\n",
      "Instructions for updating:\n",
      "Please use tf.data to implement this functionality.\n",
      "Extracting ../data/train-images-idx3-ubyte.gz\n",
      "WARNING:tensorflow:From /usr/local/lib/python3.5/dist-packages/tensorflow/contrib/learn/python/learn/datasets/mnist.py:267: extract_labels (from tensorflow.contrib.learn.python.learn.datasets.mnist) is deprecated and will be removed in a future version.\n",
      "Instructions for updating:\n",
      "Please use tf.data to implement this functionality.\n",
      "Extracting ../data/train-labels-idx1-ubyte.gz\n",
      "WARNING:tensorflow:From /usr/local/lib/python3.5/dist-packages/tensorflow/contrib/learn/python/learn/datasets/mnist.py:110: dense_to_one_hot (from tensorflow.contrib.learn.python.learn.datasets.mnist) is deprecated and will be removed in a future version.\n",
      "Instructions for updating:\n",
      "Please use tf.one_hot on tensors.\n",
      "Extracting ../data/t10k-images-idx3-ubyte.gz\n",
      "Extracting ../data/t10k-labels-idx1-ubyte.gz\n",
      "WARNING:tensorflow:From /usr/local/lib/python3.5/dist-packages/tensorflow/contrib/learn/python/learn/datasets/mnist.py:290: DataSet.__init__ (from tensorflow.contrib.learn.python.learn.datasets.mnist) is deprecated and will be removed in a future version.\n",
      "Instructions for updating:\n",
      "Please use alternatives such as official/mnist/dataset.py from tensorflow/models.\n",
      "WARNING:tensorflow:From <string>:224: calling softmax (from tensorflow.python.ops.nn_ops) with dim is deprecated and will be removed in a future version.\n",
      "Instructions for updating:\n",
      "dim is deprecated, use axis instead\n",
      "Text name: ../res/res_mnist_rs_err90_basic_tau_inv1_choiceNet.txt\n",
      "[00/40] [Loss] train:0.055(f:-0.113+r:0.051+k:0.001+l:0.116) val:-0.039 test:-0.050 [Accr] train:15.212% val:57.639% test:60.310% maxVal:57.639% maxTest:60.310%\n",
      "[01/40] [Loss] train:0.048(f:-0.121+r:0.052+k:0.001+l:0.115) val:-0.130 test:-0.135 [Accr] train:16.861% val:75.694% test:77.354% maxVal:75.694% maxTest:77.354%\n",
      "[02/40] [Loss] train:0.042(f:-0.128+r:0.053+k:0.001+l:0.115) val:-0.188 test:-0.195 [Accr] train:17.423% val:82.465% test:83.152% maxVal:82.465% maxTest:83.152%\n",
      "[03/40] [Loss] train:0.038(f:-0.132+r:0.054+k:0.001+l:0.115) val:-0.219 test:-0.229 [Accr] train:17.728% val:85.221% test:85.609% maxVal:85.221% maxTest:85.609%\n",
      "[04/40] [Loss] train:0.036(f:-0.134+r:0.053+k:0.001+l:0.115) val:-0.238 test:-0.249 [Accr] train:17.958% val:87.717% test:87.675% maxVal:87.717% maxTest:87.675%\n",
      "[05/40] [Loss] train:0.034(f:-0.135+r:0.053+k:0.001+l:0.115) val:-0.260 test:-0.265 [Accr] train:18.140% val:89.019% test:89.268% maxVal:89.019% maxTest:89.268%\n",
      "[06/40] [Loss] train:0.031(f:-0.137+r:0.052+k:0.001+l:0.115) val:-0.272 test:-0.279 [Accr] train:18.317% val:90.755% test:90.728% maxVal:90.755% maxTest:90.728%\n",
      "[07/40] [Loss] train:0.029(f:-0.139+r:0.052+k:0.001+l:0.115) val:-0.283 test:-0.290 [Accr] train:18.361% val:91.732% test:91.324% maxVal:91.732% maxTest:91.324%\n",
      "[08/40] [Loss] train:0.027(f:-0.140+r:0.052+k:0.001+l:0.114) val:-0.303 test:-0.308 [Accr] train:18.401% val:92.079% test:91.859% maxVal:92.079% maxTest:91.859%\n",
      "[09/40] [Loss] train:0.025(f:-0.141+r:0.050+k:0.001+l:0.114) val:-0.309 test:-0.310 [Accr] train:18.482% val:92.730% test:92.393% maxVal:92.730% maxTest:92.393%\n",
      "[10/40] [Loss] train:0.022(f:-0.143+r:0.050+k:0.001+l:0.114) val:-0.321 test:-0.323 [Accr] train:18.558% val:93.207% test:92.794% maxVal:93.207% maxTest:92.794%\n",
      "[11/40] [Loss] train:0.021(f:-0.143+r:0.049+k:0.001+l:0.114) val:-0.320 test:-0.326 [Accr] train:18.569% val:93.273% test:93.113% maxVal:93.273% maxTest:93.113%\n",
      "[12/40] [Loss] train:0.018(f:-0.145+r:0.048+k:0.001+l:0.114) val:-0.332 test:-0.336 [Accr] train:18.672% val:93.533% test:93.236% maxVal:93.533% maxTest:93.236%\n",
      "[13/40] [Loss] train:0.017(f:-0.145+r:0.047+k:0.001+l:0.114) val:-0.324 test:-0.331 [Accr] train:18.703% val:94.010% test:94.007% maxVal:94.010% maxTest:94.007%\n"
     ]
    }
   ],
   "source": [
    "for i in range(nWorker):\n",
    "    WORKERS[i].start(); # Start process"
   ]
  },
  {
   "cell_type": "code",
   "execution_count": null,
   "metadata": {},
   "outputs": [],
   "source": []
  }
 ],
 "metadata": {
  "kernelspec": {
   "display_name": "Python 3",
   "language": "python",
   "name": "python3"
  },
  "language_info": {
   "codemirror_mode": {
    "name": "ipython",
    "version": 3
   },
   "file_extension": ".py",
   "mimetype": "text/x-python",
   "name": "python",
   "nbconvert_exporter": "python",
   "pygments_lexer": "ipython3",
   "version": "3.5.2"
  }
 },
 "nbformat": 4,
 "nbformat_minor": 2
}
