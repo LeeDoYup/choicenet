{
 "cells": [
  {
   "cell_type": "markdown",
   "metadata": {},
   "source": [
    "# Make a webpage for summarizing classification results"
   ]
  },
  {
   "cell_type": "code",
   "execution_count": 1,
   "metadata": {},
   "outputs": [
    {
     "name": "stdout",
     "output_type": "stream",
     "text": [
      "Packages loaded.\n"
     ]
    }
   ],
   "source": [
    "import os,scipy.misc,nbloader#,cv2\n",
    "import numpy as np\n",
    "import matplotlib.pyplot as plt\n",
    "from glob import glob\n",
    "from main_cls_config import errTypeList,outlierRatioList\n",
    "%matplotlib inline  \n",
    "%config InlineBackend.figure_format = 'retina'\n",
    "print (\"Packages loaded.\")"
   ]
  },
  {
   "cell_type": "markdown",
   "metadata": {},
   "source": [
    "### Make a webpage"
   ]
  },
  {
   "cell_type": "code",
   "execution_count": 2,
   "metadata": {},
   "outputs": [
    {
     "name": "stdout",
     "output_type": "stream",
     "text": [
      "../fig/fig_mnistRes_rp_25.png\n",
      "../fig/fig_mnistRes_rp_45.png\n",
      "../fig/fig_mnistRes_rp_47.png\n",
      "../fig/fig_mnistRes_rs_50.png\n",
      "../fig/fig_mnistRes_rs_90.png\n",
      "../fig/fig_mnistRes_rs_95.png\n",
      "../fig/fig_mnistRes_b_25.png\n",
      "../fig/fig_mnistRes_b_45.png\n",
      "../fig/fig_mnistRes_b_47.png\n",
      "../html/cls_results.html saved.\n"
     ]
    }
   ],
   "source": [
    "html_name = 'cls_results'\n",
    "path2save = '../html'\n",
    "if not os.path.exists(path2save): os.makedirs(path2save) \n",
    "index_path = os.path.join(('../html/%s.html'%(html_name)))\n",
    "index = open(index_path, \"w\")\n",
    "\n",
    "index.write(\"<html>\")\n",
    "for _mode in errTypeList: # For all types        \n",
    "    \n",
    "    if _mode == 'rs':\n",
    "        errType = 'Random Shuffle'\n",
    "    elif _mode == 'rp':\n",
    "        errType = 'Permutation';\n",
    "    elif _mode == 'b':\n",
    "        errType = 'Label Bias'; \n",
    "    else:\n",
    "        print (\"Unknown [%s]\"%(_mode))\n",
    "\n",
    "    index.write(\"<body><table>\")\n",
    "    index.write(\"<caption> Error type: [%s] </caption>\" % (errType))\n",
    "    index.write(\"<tr>\")\n",
    "    index.write(\"<th> name </th>\")\n",
    "    index.write(\"<th> Result </th>\")\n",
    "    index.write(\"</tr>\")\n",
    "\n",
    "    for outlierRatio in outlierRatioList: # For all outlier lists\n",
    "        if _mode == 'rp':\n",
    "            outlierRatio /= 2\n",
    "        elif _mode == 'b':\n",
    "            outlierRatio /= 2\n",
    "        \n",
    "        index.write(\"<tr>\")\n",
    "        # Name\n",
    "        index.write(\"<td>Outlier Rate: %.1f%%</td>\" % (outlierRatio*100))\n",
    "        # Data\n",
    "        imgpath = '../fig/fig_mnistRes_%s_%d.png'%(_mode,outlierRatio*100)\n",
    "        print (imgpath)\n",
    "        index.write(\"<td><img src='%s'></td>\" % (imgpath))\n",
    "        index.write(\"</tr>\")\n",
    "    # Finish table\n",
    "    index.write(\"<br>\")\n",
    "    index.write(\"</body></table>\")\n",
    "index.write(\"</html>\")\n",
    "index.close()\n",
    "\n",
    "print (\"%s saved.\"%(index_path))"
   ]
  },
  {
   "cell_type": "code",
   "execution_count": null,
   "metadata": {},
   "outputs": [],
   "source": []
  }
 ],
 "metadata": {
  "kernelspec": {
   "display_name": "Python 3",
   "language": "python",
   "name": "python3"
  },
  "language_info": {
   "codemirror_mode": {
    "name": "ipython",
    "version": 3
   },
   "file_extension": ".py",
   "mimetype": "text/x-python",
   "name": "python",
   "nbconvert_exporter": "python",
   "pygments_lexer": "ipython3",
   "version": "3.5.2"
  }
 },
 "nbformat": 4,
 "nbformat_minor": 2
}
