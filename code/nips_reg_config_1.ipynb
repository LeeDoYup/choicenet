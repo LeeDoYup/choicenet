{
 "cells": [
  {
   "cell_type": "markdown",
   "metadata": {},
   "source": [
    "# Configurations for Regression Tasks"
   ]
  },
  {
   "cell_type": "code",
   "execution_count": 1,
   "metadata": {},
   "outputs": [
    {
     "name": "stdout",
     "output_type": "stream",
     "text": [
      "TensorFlow version is [1.4.1].\n"
     ]
    }
   ],
   "source": [
    "import time,nbloader\n",
    "import tensorflow as tf\n",
    "import tensorflow.contrib.slim as slim\n",
    "import numpy as np\n",
    "import matplotlib.pyplot as plt\n",
    "from util import grid_maker,get_properIdx,data4reg,gpusession\n",
    "from define_choiceNet_reg import choiceNet_reg_class\n",
    "from define_mdn_reg import mdn_reg_class\n",
    "from define_mlp_reg import mlp_reg_class\n",
    "from multiprocessing import Process,Manager\n",
    "if __name__ == \"__main__\": \n",
    "    print (\"TensorFlow version is [%s].\"%(tf.__version__))"
   ]
  },
  {
   "cell_type": "markdown",
   "metadata": {},
   "source": [
    "### Configurations"
   ]
  },
  {
   "cell_type": "code",
   "execution_count": null,
   "metadata": {},
   "outputs": [],
   "source": [
    "trainModeList = ['CN'] # ['CN','MLP','MDN']\n",
    "dataTypeList = ['cosexp']\n",
    "oRateList = [0.6] # \n",
    "varList = [5e-2] # [1e-6,5e-2,1e-2]\n",
    "tau_invList = [1e-8,1e-6,1e-4,1e-2,1e+0,2e+0]"
   ]
  },
  {
   "cell_type": "markdown",
   "metadata": {},
   "source": [
    "### Helper functinos"
   ]
  },
  {
   "cell_type": "code",
   "execution_count": null,
   "metadata": {},
   "outputs": [],
   "source": [
    "def get_reg_config(_processID=0,_maxProcessID=8,_maxGPU=8):\n",
    "    # Get total configurations\n",
    "    _G = grid_maker(trainModeList,dataTypeList,oRateList,varList,tau_invList)\n",
    "    _ids = get_properIdx(_processID,_maxProcessID,_nTask=_G.nIter)\n",
    "    _paramsList = list(_G.paramList[i] for i in _ids) \n",
    "    # Get corresponding GPU ID \n",
    "    _GPU_ID = (_processID % _maxGPU)\n",
    "    return _paramsList,_GPU_ID\n",
    "def get_common_config():\n",
    "    _n = 300 # Number of training data\n",
    "    _oRange=[-1.5,+3.0]\n",
    "    _hdims = [64,64]\n",
    "    _actv = tf.nn.relu\n",
    "    _maxEpoch = 3e4 # 3e4\n",
    "    _PLOT_EVERY = 0\n",
    "    _SAVE_NET = False \n",
    "    _SAVE_FIG = True \n",
    "    return _n,_oRange,_hdims,_actv,_maxEpoch,_PLOT_EVERY,_SAVE_NET,_SAVE_FIG\n",
    "def run_cn(_trainMode,_dataType,_oRate,_var,_tau_inv,_GPU_ID):\n",
    "    _n,_oRange,_hdims,_actv,_maxEpoch,_PLOT_EVERY,_SAVE_NET,_SAVE_FIG = get_common_config()\n",
    "    x,y,t=data4reg(_type=_dataType,_n=_n,_oRange=_oRange,_oRate=_oRate,measVar=_var)\n",
    "    xtest = np.linspace(start=-3,stop=3,num=1000).reshape((-1,1))\n",
    "    tf.reset_default_graph()\n",
    "    tf.set_random_seed(0); np.random.seed(0)\n",
    "    if _tau_inv < 0.9999:\n",
    "        _scope = 'oRate%d_noise%.1e_tauInv%.0e'%(_oRate*100,_var,_tau_inv)\n",
    "        _name = 'outlier:%d%% noise:%.0e 1/tau:%.0e'%(_oRate*100,_var,_tau_inv)\n",
    "    else:\n",
    "        _scope = 'oRate%d_noise%.1e_tauInv%d'%(_oRate*100,_var,_tau_inv)\n",
    "        _name = 'outlier:%d%% noise:%.0e 1/tau:%d'%(_oRate*100,_var,_tau_inv)\n",
    "    C = choiceNet_reg_class(_name=_name,_scope=_scope\n",
    "                            ,_xdim=1,_ydim=1,_hdims=_hdims\n",
    "                            ,_kmix=5,_actv=_actv,_bn=slim.batch_norm\n",
    "                            ,_rho_ref_train=0.99,_tau_inv=_tau_inv,_var_eps=1e-8\n",
    "                            ,_pi1_bias=0.0,_logSigmaZval=0\n",
    "                            ,_kl_reg_coef=1e-6,_l2_reg_coef=1e-6\n",
    "                            ,_SCHEDULE_MDN_REG=False\n",
    "                            ,_GPU_ID=_GPU_ID,_VERBOSE=False)\n",
    "    sess = gpusession() # Open session\n",
    "    sess.run(tf.global_variables_initializer()) # Initialize variables\n",
    "    C.train(_sess=sess,_x=x,_y=y,_yref=t\n",
    "           ,_lr=1e-1,_batchSize=256,_maxEpoch=_maxEpoch,_kp=1.0\n",
    "           ,_LR_SCHEDULE=True\n",
    "           ,_PRINT_EVERY=50,_PLOT_EVERY=_PLOT_EVERY\n",
    "           ,_SAVE_TXT=True,_SAVE_BEST_NET=_SAVE_NET,_SAVE_FINAL=_SAVE_NET)\n",
    "    C.test(_sess=sess,_xdata=x,_ydata=y,_yref=t,_xtest=xtest\n",
    "           ,_titleStr=C.name\n",
    "           ,_PLOT_TRAIN=True,_PLOT_RES=True,_SAVE_FIG=_SAVE_FIG)\n",
    "    sess.close() # Close session\n",
    "def run_mdn(_trainMode,_dataType,_oRate,_var,_GPU_ID):\n",
    "    _n,_oRange,_hdims,_actv,_maxEpoch,_PLOT_EVERY,_SAVE_NET,_SAVE_FIG = get_common_config()\n",
    "    x,y,t=data4reg(_type=_dataType,_n=_n,_oRange=_oRange,_oRate=_oRate,measVar=_var)\n",
    "    xtest = np.linspace(start=-3,stop=3,num=500).reshape((-1,1))\n",
    "    tf.reset_default_graph()\n",
    "    tf.set_random_seed(0); np.random.seed(0)\n",
    "    MDN = mdn_reg_class(_name='MDN_%s_oRate%d_var%.1e'%(_dataType,_oRate*100,_var)\n",
    "                     ,_xdim=1,_ydim=1,_hdims=_hdims,_sigmax=1\n",
    "                     ,_kmix=10,_actv=_actv,_bn=slim.batch_norm\n",
    "                     ,_l2_reg_coef=1e-5,_GPU_ID=_GPU_ID,_VERBOSE=False)\n",
    "    sess = gpusession() # Open session\n",
    "    sess.run(tf.global_variables_initializer()) # Initialize variables\n",
    "    MDN.train(_sess=sess,_x=x,_y=y,_yref=t \n",
    "           ,_lr=1e-1,_batchSize=256,_maxEpoch=_maxEpoch,_kp=1.0\n",
    "           ,_LR_SCHEDULE=True\n",
    "           ,_PRINT_EVERY=50,_PLOT_EVERY=_PLOT_EVERY\n",
    "           ,_SAVE_TXT=True,_SAVE_BEST_NET=_SAVE_NET,_SAVE_FINAL=_SAVE_NET)\n",
    "    MDN.test(_sess=sess,_xdata=x,_ydata=y,_yref=t,_xtest=xtest\n",
    "           ,_titleStr=MDN.name\n",
    "           ,_PLOT_TRAIN=True,_PLOT_RES=True,_SAVE_FIG=_SAVE_FIG)\n",
    "    sess.close() # Close session\n",
    "def run_mlp(_trainMode,_dataType,_oRate,_var,_GPU_ID):\n",
    "    _n,_oRange,_hdims,_actv,_maxEpoch,_PLOT_EVERY,_SAVE_NET,_SAVE_FIG = get_common_config()\n",
    "    x,y,t=data4reg(_type=_dataType,_n=_n,_oRange=_oRange,_oRate=_oRate,measVar=_var)\n",
    "    xtest = np.linspace(start=-3,stop=3,num=500).reshape((-1,1))\n",
    "    tf.reset_default_graph()\n",
    "    tf.set_random_seed(0); np.random.seed(0)\n",
    "    MLP =  mlp_reg_class(_name='MLP_%s_oRate%d_var%.1e'%(_dataType,_oRate*100,_var)\n",
    "                         ,_xdim=1,_ydim=1,_hdims=_hdims,_actv=_actv,_bn=None # slim.batch_norm\n",
    "                         ,_l2_reg_coef=1e-5,_GPU_ID=_GPU_ID,_VERBOSE=False)\n",
    "    sess = gpusession() # Open session\n",
    "    sess.run(tf.global_variables_initializer()) # Initialize variables\n",
    "    MLP.train(_sess=sess,_x=x,_y=y,_yref=t \n",
    "               ,_lr=1e-1,_batchSize=256,_maxEpoch=_maxEpoch,_kp=1.0\n",
    "               ,_LR_SCHEDULE=True\n",
    "               ,_PRINT_EVERY=50,_PLOT_EVERY=_PLOT_EVERY\n",
    "               ,_SAVE_TXT=True,_SAVE_BEST_NET=_SAVE_NET,_SAVE_FINAL=_SAVE_NET)\n",
    "    MLP.test(_sess=sess,_xdata=x,_ydata=y,_yref=t,_xtest=xtest\n",
    "           ,_titleStr=MLP.name\n",
    "           ,_PLOT_TRAIN=True,_PLOT_RES=True,_SAVE_FIG=_SAVE_FIG)\n",
    "    sess.close() # Close session\n",
    "def train_wrapper_reg(_paramsList,_GPU_ID):\n",
    "    for pIdx,params in enumerate(_paramsList): # For all current configurations\n",
    "        print (\"===[%d/%d]===\"%(pIdx,len(_paramsList)))\n",
    "        _trainMode,_dataType,_oRate,_var,_tau_inv = params[0],params[1],params[2],params[3],params[4]\n",
    "        if _trainMode == 'CN':\n",
    "            run_cn(_trainMode,_dataType,_oRate,_var,_tau_inv,_GPU_ID)\n",
    "        elif _trainMode == 'MDN':\n",
    "            run_mdn(_trainMode,_dataType,_oRate,_var,_GPU_ID)\n",
    "        elif _trainMode == 'MLP':\n",
    "            run_mlp(_trainMode,_dataType,_oRate,_var,_GPU_ID)\n",
    "        else:\n",
    "            print (\"Unknown trainMode:[%s].\"%(_trainMode))\n",
    "if __name__ == \"__main__\":\n",
    "    print (\"helper functions defined.\")"
   ]
  },
  {
   "cell_type": "markdown",
   "metadata": {},
   "source": [
    "### Worker Class"
   ]
  },
  {
   "cell_type": "code",
   "execution_count": null,
   "metadata": {},
   "outputs": [],
   "source": [
    "class worker_class(Process):\n",
    "    def __init__(self,_idx=0,_maxProcessID=8,_maxGPU=8,_name='worker',_VERBOSE=True):\n",
    "        Process.__init__(self)\n",
    "        # Initialize class\n",
    "        self.idx = _idx\n",
    "        self.maxProcessID = _maxProcessID\n",
    "        self.maxGPU = _maxGPU\n",
    "        self.name = _name\n",
    "        self.VERBOSE = _VERBOSE\n",
    "        # Initialize Process\n",
    "        self.setName = 'T_'+self.name \n",
    "        self.daemon = True # Make sure that each child is killed when the parent is dead. (?!)\n",
    "        # Print\n",
    "        if self.VERBOSE:\n",
    "            print (\"[%s] Instantiated.\"%(self.name))\n",
    "    def run(self):\n",
    "        print (\"Starting [%s]\"%(self.name))\n",
    "        time.sleep(1e-1)\n",
    "        # Get configurations \n",
    "        paramsList,GPU_ID = get_reg_config(self.idx,self.maxProcessID,self.maxGPU)\n",
    "        print (\"processID:[%d/%d] GPU_ID:[%d] #Config:[%d]\"\n",
    "               %(self.idx,self.maxProcessID,GPU_ID,len(paramsList)))\n",
    "        # Run\n",
    "        train_wrapper_reg(_paramsList=paramsList,_GPU_ID=GPU_ID)\n",
    "        print (\"[%s] Finished.\"%(self.name))\n",
    "if __name__ == \"__main__\":\n",
    "    print (\"worker_class defined.\")"
   ]
  },
  {
   "cell_type": "code",
   "execution_count": null,
   "metadata": {},
   "outputs": [],
   "source": []
  }
 ],
 "metadata": {
  "kernelspec": {
   "display_name": "Python 3",
   "language": "python",
   "name": "python3"
  },
  "language_info": {
   "codemirror_mode": {
    "name": "ipython",
    "version": 3
   },
   "file_extension": ".py",
   "mimetype": "text/x-python",
   "name": "python",
   "nbconvert_exporter": "python",
   "pygments_lexer": "ipython3",
   "version": "3.5.2"
  }
 },
 "nbformat": 4,
 "nbformat_minor": 2
}
